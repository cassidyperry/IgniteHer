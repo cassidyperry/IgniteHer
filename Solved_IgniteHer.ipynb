{
  "nbformat": 4,
  "nbformat_minor": 0,
  "metadata": {
    "colab": {
      "provenance": []
    },
    "kernelspec": {
      "name": "python3",
      "display_name": "Python 3"
    },
    "language_info": {
      "name": "python"
    }
  },
  "cells": [
    {
      "cell_type": "markdown",
      "source": [
        "# 🌞 Solar Battery Workshop 🌞 #\n",
        "\n",
        "## **The Scenario**\n",
        "\n",
        "### You are hanging out at home on a typical Friday night, when all of a sudden, you hear thunder and lightning. After a few minutes, the power goes out. You wait a few seconds, then a minute, but nothing happens...there are no lights, no TV, and no Wifi! ☠️ \n",
        "\n",
        "### Just when you are ready to panic, you remember that you have a **home battery**, used to store electricity and deliver it to your appliances and devices. You also have solar panels on the roof - a solar power system. Instead of going to the grid, some of the electricity the solar system produces flows into the battery and charges it up. \n",
        "---\n",
        "\n",
        "## **The Question**\n",
        "> ### Can you power your home during a power outage using a solar battery storage system?\n",
        "\n",
        "> ### To find the answer, we will need to know:\n",
        "\n",
        "> *   Battery storage capacity\n",
        "> *   Output of the system that turns solar rays into power\n",
        "> *   Electricity needs during an outage\n",
        "\n",
        "\n",
        "\n"
      ],
      "metadata": {
        "id": "b0icO9zhBP1c"
      }
    },
    {
      "cell_type": "markdown",
      "source": [
        "---\n",
        "---\n",
        "## **Part 1: Code Warm-Up**\n",
        "\n",
        "### Let's do a little light coding to warm up. Each time you see the ⚡ symbol, this is a sign to add to the code.\n",
        "---\n",
        "\n",
        "### Below, we define our battery capacity as 13 kWh (or 13,000 Wh). This is assigned to the **batterysize_Wh** variable. To keep our code easy to read, we use \"comments\" that explain what is happening. Each time you see a line start with a hashtag #️⃣, this part of the code is not \"run\" by the program, but is only for the user to read. \n",
        "\n",
        "### Some code sections will give you an output by \"printing\" something or making a graph, while other sections of code just store data, with nothing visibly happening on the screen. This is okay! \n",
        "\n",
        "> ### ⚡ To run the section of code below, press the play button (▶) in the menu bar above or use the keyboard shortcut CTRL + ENTER. \n",
        "\n",
        "\n"
      ],
      "metadata": {
        "id": "bogsLUPLBTKd"
      }
    },
    {
      "cell_type": "code",
      "source": [
        "# battery capacity definition\n",
        "battery_Wh = 13000 # Wh"
      ],
      "metadata": {
        "id": "2PmpDrdN4Dvh"
      },
      "execution_count": 3,
      "outputs": []
    },
    {
      "cell_type": "markdown",
      "source": [
        "### Next, we build something called a \"class\", which is a type of template. Our class is called **home_appliance** and has three properties: **power_demand**, **quantity**, and **runtime**. Each \"instance\" of our class will be built the same way, meaning, they will all have the same properties that we can later assign values to! ###\n",
        "\n",
        "### In the code below, we have built two appliances using the **home_appliance** class: **fridge** and **microwave**. \n",
        "----\n",
        "### We can test that each of these has the quantity property assigned to 1 by using a **print** statement. We use \"dot notation\" to access each of the properties of the appliances we have built. \n",
        "### We can also use quotation marks in the code to print words or sentences, for clarity, for instance, we can write 'Quantity of appliance:' and print that beside the value for the quantity property for a fridge. ###\n",
        "\n",
        "> ### ⚡ Press ▶ on the menu bar to run the code section below or use CTRL + ENTER. Does anything happen?  "
      ],
      "metadata": {
        "id": "fjTkl6Bb4Gqy"
      }
    },
    {
      "cell_type": "code",
      "source": [
        "class home_appliance():\n",
        "    \n",
        "    def __init__(self):\n",
        "        # properties of the class\n",
        "        self.power_demand = None # Watts  \n",
        "        self.quantity = 1\n",
        "        self.runtime = None # h\n",
        "\n",
        "# building each appliance by \"initiating\" the home_appliance class \n",
        "# each appliance below now has all the properties of the class           \n",
        "fridge = home_appliance()\n",
        "microwave = home_appliance()\n",
        "\n",
        "print ('Quantity of appliance:', fridge.quantity)"
      ],
      "metadata": {
        "id": "MoRXCu8qBX-R",
        "colab": {
          "base_uri": "https://localhost:8080/"
        },
        "outputId": "46a9be67-3c41-4255-ba1b-f59033359e17"
      },
      "execution_count": 6,
      "outputs": [
        {
          "output_type": "stream",
          "name": "stdout",
          "text": [
            "Quantity of appliance: 1\n"
          ]
        }
      ]
    },
    {
      "cell_type": "markdown",
      "source": [
        "## **More Code Warm-Up**\n",
        "### Which appliances are essential during an outage?\n",
        "----\n",
        "\n",
        "> ### ⚡ To the code section above, add appliances to your home that you think will be essential during an outage (hint: the provided handout has some ideas). Do this by assigning names to the appliances (the same way fridge and microwave were done) then writing = home_appliance(). Use a new line for each appliance. \n",
        "\n",
        "> ### You can remove the fridge and microwave if you don't think these are essential. You can also \"comment out\" the print statement (to make it stop printing every time you run the code) by adding the #️⃣ hashtag in front of the print command. \n",
        "\n",
        "> ### ⚡ Press ▶ when you're done making changes. \n",
        "\n",
        "----\n",
        "\n",
        "### One of the perks of coding in a modern language like Python 🐍 is being able to easily group stuff (called \"objects\") together to perform the same calculation on every member of the group. This let's us do a lot of the same calculation QUICKLY.\n",
        "\n",
        "### The simplest way to do this is using something called a **list**. A list is created by using square brakets, then \"assigning\" the list to a name that we create. A list can have a lot of stuff in it, or it can be empty.   \n",
        "\n",
        "----\n",
        "### The code section below creates an empty list called **empty_list** and a list called **list_of_cool_stuff** that we have put three things into. In Python, a list can store many types of data such as integers, fractions, words (called \"strings\"), other lists, instances of classes (e.g., our fridge, microwave, etc.). Items in a list are separated by commas.\n",
        "\n",
        "> ### ⚡ Press ▶ to test the section of code below. The contents of both of the lists we created should print because of the print command.\n"
      ],
      "metadata": {
        "id": "n8M1758S-s_I"
      }
    },
    {
      "cell_type": "code",
      "source": [
        "empty_list = []\n",
        "list_of_cool_stuff = [11, 'cats', 12.2]\n",
        "\n",
        "print (empty_list, list_of_cool_stuff)"
      ],
      "metadata": {
        "colab": {
          "base_uri": "https://localhost:8080/"
        },
        "id": "r2O7qjegDeLp",
        "outputId": "fc0cc1a3-5622-424e-a5c4-8bc80f54ddef"
      },
      "execution_count": 4,
      "outputs": [
        {
          "output_type": "stream",
          "name": "stdout",
          "text": [
            "[] [11, 'cats', 12.2]\n"
          ]
        }
      ]
    },
    {
      "cell_type": "markdown",
      "source": [
        "---\n",
        "---\n",
        "## **Part 2: Calculating Electricity Needed During an Outage**\n",
        "\n",
        "### Let's keep building the code and do a little math! (**the ⚡ symbol, means you need to write some code yourself.**)\n",
        "----\n",
        "\n",
        "> ### ⚡ Make a list called **all_appliances**. Inside the square brackets, type in the names of each of your appliances from a few code sections back, e.g., fridge, microwave, etc. For example, for just the fridge and microwave appliances, the list would look something like this: \n",
        "\n",
        "> ### all_appliances = [fridge, microwave]\n",
        "\n",
        "\n",
        "> ### ⚡ Make a second list called **all_appliances_power_W**. Inside the square brackets, type in the amount of power each of these appliances. Order matters! Write your code for both lists in the code box below:\n",
        "\n",
        "\n",
        "\n"
      ],
      "metadata": {
        "id": "L7LgbyU39c0d"
      }
    },
    {
      "cell_type": "code",
      "source": [
        "all_appliances = [fridge, microwave]\n",
        "all_appliances_power_W = [500, 900]"
      ],
      "metadata": {
        "id": "MG4jvkLWF_4-"
      },
      "execution_count": 7,
      "outputs": []
    },
    {
      "cell_type": "markdown",
      "source": [
        "### When we created the home_appliance class, one of the properties was the **quantity**. By default, we set this equal to 1 inside that class. For something like lightbulbs, you will likely want to power more than one during a power outage. We can change this in the next section of code:\n",
        "\n",
        "> ### ⚡ Press ▶ to test the section of code below. Do you understand what happened? "
      ],
      "metadata": {
        "id": "PnHKL_LXVTBB"
      }
    },
    {
      "cell_type": "code",
      "source": [
        "bulb = home_appliance()\n",
        "bulb.quantity = 20 \n",
        "# uncomment the line below (delete the hashtag to test the quantity of bulbs has been reassigned)\n",
        "# print (bulb.quantity)"
      ],
      "metadata": {
        "id": "potx2TxBV_EX"
      },
      "execution_count": 8,
      "outputs": []
    },
    {
      "cell_type": "markdown",
      "source": [
        "### We can also move through the items in a list, completing calculations or even just printing each item as an output. This is called loop and is started using the \"for\" command (type of \"for loop\"). To loop through a single list could look like the following code:\n",
        "\n",
        "> ### ⚡ Press ▶ or CTRL + ENTER to test the code below."
      ],
      "metadata": {
        "id": "UzewP-PLWtLz"
      }
    },
    {
      "cell_type": "code",
      "source": [
        "for i in list_of_cool_stuff:\n",
        "  print (i)"
      ],
      "metadata": {
        "colab": {
          "base_uri": "https://localhost:8080/"
        },
        "id": "HmXsajvgIFUR",
        "outputId": "32538019-f4a5-4454-981a-78f3e8f796cf"
      },
      "execution_count": 9,
      "outputs": [
        {
          "output_type": "stream",
          "name": "stdout",
          "text": [
            "11\n",
            "cats\n",
            "12.2\n"
          ]
        }
      ]
    },
    {
      "cell_type": "markdown",
      "source": [
        "### We can also loop through each item in multiple lists at the same time by using the \"zip\" funciton (think of moving through each othe two sets of teeth on a pants zipper at the same time). The code below loops through both the list of appliances and their power, calculating the total power demand of each appliance by taking into account the quantity of each one. This is then assigned to the **power_demand** property of each appliance.\n",
        "\n",
        "> ### ⚡ Within the for loop below, add a line of code that prints the power_demand for each appliance. Use \"dot notation\", appliance.power_demaind. Use ▶ or CTRL + ENTER when you are done making changes."
      ],
      "metadata": {
        "id": "N5T0aK1SJG9h"
      }
    },
    {
      "cell_type": "code",
      "source": [
        "for appliance, power in zip(all_appliances, all_appliances_power_W):\n",
        "    appliance.power_demand = power * appliance.quantity\n",
        "    print (appliance.power_demand)"
      ],
      "metadata": {
        "colab": {
          "base_uri": "https://localhost:8080/"
        },
        "id": "jiKZox5CJfEu",
        "outputId": "8f95b940-948a-47d1-a67b-0a77e513ec25"
      },
      "execution_count": 9,
      "outputs": [
        {
          "output_type": "stream",
          "name": "stdout",
          "text": [
            "500\n",
            "900\n"
          ]
        }
      ]
    },
    {
      "cell_type": "markdown",
      "source": [
        "### To finish up this section, we will make a new, empty list, then add or \"append\" each of our selected essential appliance's power demands to it, then sum all of those values to obtain a essential total power demand during a power outage. \n",
        "\n",
        "> ### ⚡ Make a new list called **total_power_W**. Use a for loop to move through each \"i th\" item in the existing list **all_appliances**. Within the loop, for each appliance you will append the **power_demand** property. This will look something like total_power.append(appliance.power_demand). \n",
        "\n",
        "> ### Hint: to be inside a \"for loop\" your code is indented two tab spaces from the left side of the page. To no longer be inside the loop, make sure the code is flush with the page margin.\n",
        "\n",
        "> ### ⚡ Add together all of the items in the new **total_power_W** list by using the \"sum\" function, for example, A = sum(some_list_name).\n",
        "\n",
        "> ### Use ▶ or CTRL + ENTER when you are done making changes."
      ],
      "metadata": {
        "id": "oS0fSscjLOVW"
      }
    },
    {
      "cell_type": "code",
      "source": [
        "total_power_W = []\n",
        "for appliance in all_appliances:\n",
        "    total_power_W.append(appliance.power_demand)\n",
        "\n",
        "total_power_W = sum(total_power_W)\n"
      ],
      "metadata": {
        "id": "GDNEpOyTL91l"
      },
      "execution_count": 10,
      "outputs": []
    },
    {
      "cell_type": "markdown",
      "source": [
        "### We can now answer one half of our original question - how many days can the battery support support emergency power for your essential appliances?\n",
        "\n",
        "### To calculate this, we want to take the storage capacity of the battery (in units of Watt hours) and divide by the total power demand from all of our selected essential appliances\n",
        "\n",
        "> ### ⚡ For the code section below, convert the **hours_emerg_power** variable from hours to days. You may choose to rename the variable or make a new variable with a more appropriate name.\n",
        "\n",
        "> ### Use ▶ or CTRL + ENTER when you are done making changes."
      ],
      "metadata": {
        "id": "lZJHYq44OkCi"
      }
    },
    {
      "cell_type": "code",
      "source": [
        "hours_emerg_power = battery_Wh / total_power_W \n",
        "hours_emerg_power = round(hours_emerg_power, 1)\n",
        "# print ('total power needed:', total_power_W, 'hours of emergency power:', hours_emerg_power)\n",
        "days_emerg_power = hours_emerg_power / 24 \n",
        "print (days_emerg_power)"
      ],
      "metadata": {
        "colab": {
          "base_uri": "https://localhost:8080/"
        },
        "id": "yIT0iIepPt7r",
        "outputId": "aa243d8a-d2ad-45bb-b839-0ecd7641fa93"
      },
      "execution_count": 11,
      "outputs": [
        {
          "output_type": "stream",
          "name": "stdout",
          "text": [
            "0.3875\n"
          ]
        }
      ]
    },
    {
      "cell_type": "markdown",
      "source": [
        "## **Part 3: Sunny Days in Major Cities 🌞**\n",
        "### Cities experience different amounts of sunny days, depending on the time of year. This affects how quickly your emergency power reserves (solar battery) will \"charge up\" to the full capacity (or close to full).\n",
        "\n",
        "### We will be working with some data on the average hours of peak sunlight per city for a few different cities in Canada to test how quickly a backup power battery would charge up.\n",
        "\n",
        "### To start, we'll \"import\" some packages. Another perk of a modern language like Python 🐍 is being able to use scientific packages that other people have already made to easily do things like organize data and make graphs (or visualize) the data. \n"
      ],
      "metadata": {
        "id": "r8jYyPAMBbLc"
      }
    },
    {
      "cell_type": "code",
      "source": [
        "# importing packages and picking font type and size  \n",
        "import pandas as pd \n",
        "import matplotlib.pyplot as plt\n",
        "from matplotlib import rcParams\n",
        "rcParams['font.family'] = 'sans serif'\n",
        "rcParams['font.size'] = 10"
      ],
      "metadata": {
        "id": "mI4ZwSdiHHOT"
      },
      "execution_count": 29,
      "outputs": []
    },
    {
      "cell_type": "markdown",
      "source": [
        "### Each of the lists below has the average number of sunny days per month (January, February, March, etc.) per city, therefore each list has 12 items in it (1 for each of the 12 months).\n",
        "\n",
        "### We will build something called \"dataframe,\" which is a useful way to store data in preparation for sorting it, doing calculations, e.g., averaging, summing, etc., or just plotting the data. The \"index\" or column that we will order the data via is the 12 names of the months.\n",
        "---\n",
        "### We can omit any of the data sets of the six cities by commenting them out (use the hashtag symbol) from the dataframe, \"df\". Currently, the data for Winnipeg has been excluded.\n",
        "\n",
        "### Finally, we have asked the code to plot the data for the cities that are included in the data frame (not commented out) as a bar chart.\n",
        "\n",
        "> ### ⚡ For the code section below, add Winnipeg back to the dataframe, but comment out two of the other cities. Use ▶ or CTRL + ENTER when you are done making changes. Has the output plot updated to include your changes?\n",
        "\n"
      ],
      "metadata": {
        "id": "x6OsPpwgTVlD"
      }
    },
    {
      "cell_type": "code",
      "source": [
        "# monthly average of total hours of sun for each of 6 cities\n",
        "h_sun_Vancouver = [2, 3, 4.3, 6.1, 7.4, 7.6, 9.5, 8.6, 6.6, 4.0, 2.1, 1.8]\n",
        "h_sun_Calgary = [3, 5, 5.7, 7.3, 8.2, 9.3, 10.2, 9.1, 6.9, 5.8, 4.1, 3.6]\n",
        "h_sun_Winnipeg = [3.9, 4.9, 5.8, 8, 9.2, 9.4, 10.2, 9, 6, 4.7, 3.1, 3.2]\n",
        "h_sun_Ottawa = [3.3, 4.4, 5.2, 6.3, 7.4, 8.4, 8.9, 8, 5.7, 4.4, 2.8, 2.6]\n",
        "h_sun_Freddy = [3.9, 4.7, 4.7, 5.3, 6.6, 7.3, 7.7, 7.3, 5.7, 4.6, 3.3, 3.3]\n",
        "h_sun_Hfx = [2.9, 4, 4.1, 4.5, 6.3, 7.5, 7.7, 7.2, 5.4, 4, 2.5, 2.1]\n",
        "\n",
        "index = [\n",
        "    'Jan', 'Feb', 'Mar', 'Apr', 'May', 'Jun', 'Jul', 'Aug', 'Sept', \n",
        "    'Oct', 'Nov', 'Dec'\n",
        "    ]\n",
        "\n",
        "# building a dataframe to store our monthly h of sun data\n",
        "# telling the dataframe which data sets to include and giving each a label\n",
        "\n",
        "# we can omit any of these by commenting them out (use the # symbol)\n",
        "# currently, the data for Winnipeg has been excluded\n",
        "df = pd.DataFrame({\n",
        "        'Vancouver': h_sun_Vancouver,\n",
        "        'Calgary': h_sun_Calgary,\n",
        "        'Winnipeg': h_sun_Winnipeg,\n",
        "        'Ottawa': h_sun_Ottawa,\n",
        "        'Fredericton': h_sun_Freddy,\n",
        "        'Halifax': h_sun_Hfx,\n",
        "        }, index=index) \n",
        "\n",
        "# plot all data in the dataframe as a bar chart\n",
        "colrs = ['#AA4499', '#DDCC77', '#CC6677', '#882255', '#88CCEE', '#332288']\n",
        "\n",
        "ax = df.plot.bar(\n",
        "        rot=0, width=.8, color=colrs, edgecolor ='white', linewidth=1,\n",
        "        figsize=(12,8)\n",
        "        )\n",
        "\n",
        "plt.xlabel('Months', labelpad=8, fontsize = '12')\n",
        "plt.tick_params(axis=\"both\",direction=\"in\", labelsize = '12') \n",
        "# plt.ylim(0,11)\n",
        "plt.ylabel('Average Hours of Peak Sunlight per Day', labelpad=8, fontsize = '12')\n",
        "plt.legend(edgecolor='black', loc='upper right', fontsize=11)\n",
        "\n",
        "# display the plot\n",
        "plt.show()"
      ],
      "metadata": {
        "id": "sx9DRRGVTO2f"
      },
      "execution_count": 40,
      "outputs": []
    },
    {
      "cell_type": "markdown",
      "source": [
        "---\n",
        "---\n",
        "## **Part 4: Putting it All Together 🔋 🌞 🏘️**\n",
        "\n",
        "### The advantage of pairing battery storage with solar is that you are  making a mini power source for your home. Without battery storage, your solar system is turned off by the local utility during an outage to prevent backflow of electricity to the grid (so as to not injure repair workers).\n",
        "---\n",
        "### When the sun rises, solar begins powering the home. If extra power is required, the home can pull from the utility grid. If you have battery storage (and your battery is charged), your system can work independently when the grid is down in an outage, known as “islanding.” \n",
        "\n",
        "![](https://drive.google.com/uc?export=view&id=1aW9TARXIhowoKjLRmXFP3zm80bNthMFy)"
      ],
      "metadata": {
        "id": "OQemeVvAB_9U"
      }
    },
    {
      "cell_type": "markdown",
      "source": [
        "### Solar panel systems are measured in kW, representing the energy the system can produce in 1 hour of peak sun. \n",
        "\n",
        "### A 5 kW solar system can produce 5 kWh of electricity per hour in ideal conditions. Since conditions aren’t always ideal, we  assume a performance ratio of 75%. \n",
        "\n",
        "### We can calculate how much power is produced by a solar panel system using the following equation:\n",
        "\n",
        "> ### *P_solar = E × peak sun hours/day × PR* \n",
        "\n",
        "> #### E = energy system can produce\n",
        "> #### PR = performance rating (fraction)\n",
        "\n",
        "### Let's calculate this using the peak sun data from our plot a few code sections above:\n",
        "\n",
        "### - Pick one of the six cities from the graph generated earlier (e.g., one from Vancouver, Calgary, Winnipeg, Ottawa, Fredericton, or Halifax). \n",
        "### - Pick your favourite month of the year. \n",
        "### - From the plot, what is the value for the average peak hours of sun?\n",
        "\n",
        "> ### ⚡ For the code section below, assign this value to the variable **avg_peaksun_h** instead of the current value of \"None\" that has been assigned. Make a new variable and assign it to the answer from the P_solar calculation shown above. Make sure the units for P_solar are kilowatt hours.\n",
        "\n",
        "> ### Use ▶ or CTRL + ENTER when you are done making changes. "
      ],
      "metadata": {
        "id": "7e4jFExNHOQE"
      }
    },
    {
      "cell_type": "code",
      "source": [
        "avg_peaksun_h = None\n",
        "P_solar_kWh = 5 * 3 * 0.75\n",
        "print (P_solar_kWh)"
      ],
      "metadata": {
        "colab": {
          "base_uri": "https://localhost:8080/"
        },
        "id": "ySL9soBLMu4a",
        "outputId": "ccf98874-c3d9-4156-be21-2f1f9171f741"
      },
      "execution_count": 2,
      "outputs": [
        {
          "output_type": "stream",
          "name": "stdout",
          "text": [
            "11.25\n"
          ]
        }
      ]
    },
    {
      "cell_type": "markdown",
      "source": [
        "### Finally, let's put all of your calculations together!\n",
        "\n",
        "*   Your battery capacity is 13 kWh\n",
        "\n",
        "*   You picked essential appliances for use in an outage that total to a wattage assigned to the variable total_power_W. Based on this value and the battery capacity, you calculated the total hours per day that you could *continuously* power your essential appliances and assigned that to the variable hours_emerg_power.\n",
        "\n",
        "*   Based on the city you chose, the total amount of energy the solar battery at your house can be recharged to each day is assigned to the variable P_solar_kWh\n",
        "\n",
        "\n"
      ],
      "metadata": {
        "id": "RIMNXG-RPQmt"
      }
    },
    {
      "cell_type": "code",
      "source": [
        "print ('battery capacity (kWh):', battery_Wh/1000)\n",
        "print ('total power needed each day of outage (kW):', total_power_W / 1000)\n",
        "print ('total hours of power available for essential devices (h):', hours_emerg_power)\n",
        "print ('solar energy available to recharge battery (kWh):', P_solar_kWh)"
      ],
      "metadata": {
        "colab": {
          "base_uri": "https://localhost:8080/"
        },
        "id": "fxjqBok5SnHR",
        "outputId": "091b6948-0599-4c07-e9e4-430fc88d0a98"
      },
      "execution_count": 15,
      "outputs": [
        {
          "output_type": "stream",
          "name": "stdout",
          "text": [
            "battery capacity (kWh): 13.0\n",
            "total power needed each day of outage (kW): 1.4\n",
            "total hours of power available for essential devices (h): 9.3\n",
            "solar energy available to recharge battery (kWh): 11.25\n"
          ]
        }
      ]
    },
    {
      "cell_type": "markdown",
      "source": [
        "---\n",
        "---\n",
        "## **Answering the Question**\n",
        "\n",
        "> ### Can you power your home during a power outage using a solar battery storage system?\n",
        "\n",
        "### - Can you fully recharge the battery each day? \n",
        "### - Does this amount of \"charge\" last you all day for the \"essential\" appliances selected? \n",
        "### - Are you actually going to be using all of these appliances continuously?\n"
      ],
      "metadata": {
        "id": "scyeY-MGVAyD"
      }
    },
    {
      "cell_type": "markdown",
      "source": [
        "---\n",
        "---\n",
        "# Some Extra Stuff to Think About...\n",
        "---\n",
        "### Let's assume that to fully operate a house, roughly 30 kWh is needed per day. Would solar power alone be enough to power your whole house if you were \"off-grid?\"\n",
        "---\n",
        "### What other sources of power do you think contribute to the grid in a larger scale to keep your house running day-to-day?\n"
      ],
      "metadata": {
        "id": "F11oGKF7lxZM"
      }
    },
    {
      "cell_type": "code",
      "source": [],
      "metadata": {
        "id": "sXnOnH1-POzW"
      },
      "execution_count": null,
      "outputs": []
    }
  ]
}