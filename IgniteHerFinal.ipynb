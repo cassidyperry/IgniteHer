{
  "nbformat": 4,
  "nbformat_minor": 0,
  "metadata": {
    "colab": {
      "provenance": [],
      "authorship_tag": "ABX9TyO2agihyX1ByeJyBK/jgudi",
      "include_colab_link": true
    },
    "kernelspec": {
      "name": "python3",
      "display_name": "Python 3"
    },
    "language_info": {
      "name": "python"
    }
  },
  "cells": [
    {
      "cell_type": "markdown",
      "metadata": {
        "id": "view-in-github",
        "colab_type": "text"
      },
      "source": [
        "<a href=\"https://colab.research.google.com/github/cassidyperry/IgniteHer/blob/main/IgniteHerFinal.ipynb\" target=\"_parent\"><img src=\"https://colab.research.google.com/assets/colab-badge.svg\" alt=\"Open In Colab\"/></a>"
      ]
    },
    {
      "cell_type": "markdown",
      "source": [
        "# **Welcome to Python Coding Bootcamp!** 🐍\n",
        "## The Scenario\n",
        "### You own a house that is equipped with a solar battery. A solar battery is used as a backup battery if the power goes out. An intense storm has hit your area, causing the power to go out for at least 3 days, meaning you need to rely on your solar powered battery to power your essential items. \n",
        "\n",
        "\n",
        "---\n"
      ],
      "metadata": {
        "id": "hey80-qCbsgu"
      }
    },
    {
      "cell_type": "markdown",
      "source": [
        "## Our Goal\n",
        "### Today's goal is to determine how long you can power your home with solar battery storage if you use your \"essential\" applicances throughout the outage. This depends on three main things:\n",
        "\n",
        "\n",
        "1.   Battery storage capacity\n",
        "2.   Output of the system that turns solar rays into power\n",
        "3. Electricity needs during an outage\n",
        "\n",
        "---\n",
        "\n",
        "\n",
        "### In the code below, we define our battery size. This can easily be changed but it typically around 13 kWh. We have also listed some common appliances and their power requirement, W."
      ],
      "metadata": {
        "id": "Wfm4mUgIbygB"
      }
    },
    {
      "cell_type": "code",
      "source": [
        "# Battery Capacity Definition\n",
        "batterysize_kWh = 13.5 # kWh\n",
        "\n",
        "# List of Common Appliances\n",
        "# appliances = ['Bulb', 'Fridge', 'Washing Machine', 'Microwave', 'TV', 'Wifi', 'Phone Charger']\n",
        "# appliances_power_W = [100, 400, 850, 1000, 100, 20, 5]\n",
        "\n",
        "class home_appliance():\n",
        "    \n",
        "    def __init__(self):\n",
        "        \n",
        "        self.power_demand = None # Watts  \n",
        "        self.quantity = None\n",
        "        self.runtime = None # h\n",
        "            \n",
        "fridge = home_appliance()\n",
        "stove = home_appliance()\n",
        "phone_charger = home_appliance()\n",
        "TV = home_appliance()\n",
        "bulb = home_appliance()\n",
        "wifi = home_appliance()\n",
        "microwave = home_appliance()"
      ],
      "metadata": {
        "id": "SY5sjyVPcDZy"
      },
      "execution_count": null,
      "outputs": []
    },
    {
      "cell_type": "markdown",
      "source": [
        "## Sunny Days in Major Cities 🌞\n",
        "### Different cities experience different amounts of sunny days per month, depending on the time of year. \n",
        "### Information on the average amount of sunny hours per day can be found here: https://www.livingin-canada.com/sunshine-hours-canada.html\n",
        "### First off, this data can be used to compare the amount of sunny hours per day that are experienced by each city in a month. Here, we are going to plot this information for each city by month. Below is the information needed that was gathered from the above website."
      ],
      "metadata": {
        "id": "WsNZu44acK9q"
      }
    },
    {
      "cell_type": "code",
      "source": [
        "# Importing Library\n",
        "import pandas as pd \n",
        "import matplotlib.pyplot as plot\n",
        "\n",
        "# List of the Cities and Months\n",
        "city = ['Vancouver','Penticton','Calgary','Winnipeg','Toronto','Ottawa','Fredericton','Halifax']\n",
        "months_string = ['January', 'February', 'March', 'April', 'May', 'June', 'July', 'August', 'September', 'October', 'November', 'December']\n",
        "\n",
        "# Making a data definition\n",
        "data=[['Jan',2.0, 1.3, 3.8, 3.9, 2.8, 3.3, 3.9, 2.9],\n",
        "      ['Feb',3.0, 2.8, 5.0, 4.9, 3.9, 4.4, 4.7, 4.0],\n",
        "      ['Mar',4.3, 4.6, 5.7, 5.8, 5.0, 5.2, 4.7, 4.1],\n",
        "      ['Apr',6.1, 6.5, 7.3, 8.0, 6.2, 6.3, 5.3, 4.5],\n",
        "      ['May', 7.4, 7.6, 8.2, 9.2, 7.4, 7.4, 6.6, 6.3],\n",
        "      ['Jun', 7.6, 8.2, 9.3, 9.4, 8.3, 8.4, 7.3, 7.5],\n",
        "      ['Jul', 9.5, 9.5, 10.2, 10.2, 8.9, 8.9, 7.7, 7.7],\n",
        "      ['Aug', 8.6, 8.9, 9.1, 9.0, 7.8, 8.0, 7.3, 7.2],\n",
        "      ['Sep', 6.6, 7.1, 6.9, 6.0, 6.3, 5.7, 5.7, 5.4],\n",
        "      ['Oct', 4.0, 4.6, 5.8, 4.7, 4.8, 4.4, 4.6, 4.0],\n",
        "      ['Nov', 2.1, 1.8, 4.1, 3.1, 2.8, 2.8, 3.3, 2.5],\n",
        "      ['Dec', 1.8, 1.2, 3.6, 3.2, 2.4, 2.6, 3.3, 2.1]\n",
        "     ]\n",
        "\n",
        "# Plot multiple columns of the bar chart\n",
        "df = pd.DataFrame(data, columns=['Months', 'Vancouver','Penticton','Calgary','Winnipeg','Toronto','Ottawa','Fredericton','Halifax'])\n",
        "df.plot(x='Months', y=['Vancouver','Penticton','Calgary','Winnipeg','Toronto','Ottawa','Fredericton','Halifax'], kind=\"bar\",figsize=(10,8))\n",
        "\n",
        "# Display the plot\n",
        "plot.show()"
      ],
      "metadata": {
        "colab": {
          "base_uri": "https://localhost:8080/",
          "height": 711
        },
        "id": "s9yhITABsp22",
        "outputId": "1b38c4c5-c92b-46c6-b838-b08ab12e6983"
      },
      "execution_count": null,
      "outputs": [
        {
          "output_type": "display_data",
          "data": {
            "text/plain": [
              "<Figure size 1000x800 with 1 Axes>"
            ],
            "image/png": "[encoded data removed]"
          },
          "metadata": {}
        }
      ]
    },
    {
      "cell_type": "markdown",
      "source": [
        "## Onto the Coding!\n",
        "### Now that we have some of the basics down, we can determine the amount of charge our battery has depending on the amount of sunny days our city experiences. We will assume that our battery is completely drained of charge at the beginning of the month, and that it is not a leap year. The next section of code will assign you a city, the month and the number of days into the month have passed before the outage occurs."
      ],
      "metadata": {
        "id": "4iJuOKZ_cTSd"
      }
    },
    {
      "cell_type": "code",
      "source": [
        "# Importing Library\n",
        "import random as rd\n",
        "\n",
        "# Randomly choosing a city\n",
        "your_city = rd.choice(city)\n",
        "print('Your house is located in',your_city)\n",
        "\n",
        "# Randomly choosing a month\n",
        "month = rd.choice(months_string)\n",
        "print('Your month is', month)\n",
        "\n",
        "# Randomly choosing a day for the outage to occur and making sure that it is an actual day that happens in that month\n",
        "date = rd.randint(1,31)\n",
        "if month == 'February':\n",
        "  date >= 28\n",
        "elif (month == 'April' or 'June' or 'September' or 'November'):\n",
        "  date >= 30\n",
        "print('The number of days elapsed in the month is', date)"
      ],
      "metadata": {
        "colab": {
          "base_uri": "https://localhost:8080/"
        },
        "id": "n4J6ctNjcVy4",
        "outputId": "bacba530-3591-40ee-dfa3-784e2a4d95c5"
      },
      "execution_count": null,
      "outputs": [
        {
          "output_type": "stream",
          "name": "stdout",
          "text": [
            "Your house is located in Vancouver\n",
            "Your month is February\n",
            "The number of days elapsed in the month is 17\n"
          ]
        }
      ]
    },
    {
      "cell_type": "markdown",
      "source": [
        "### Using the above plot of the sunny hours, find the average amount of hours of sun your city gets in the month generated. Input this number in the avg_sun variable below. "
      ],
      "metadata": {
        "id": "NOCaTTugcdb7"
      }
    },
    {
      "cell_type": "code",
      "source": [
        "avg_sun = 4.1 # hrs sun/day"
      ],
      "metadata": {
        "id": "L0mT4Jk7c5gU"
      },
      "execution_count": null,
      "outputs": []
    },
    {
      "cell_type": "markdown",
      "source": [
        "### Now you need to decide which appliances are essential to you. Fill these appliances into the variable below, all_appliances. Then fill in the power requirement for these appliances in the following variable, all_appliances_power."
      ],
      "metadata": {
        "id": "yEpZvtWIdvO_"
      }
    },
    {
      "cell_type": "code",
      "source": [
        "all_appliances = [phone_charger, TV, wifi, microwave]\n",
        "all_appliance_power = [5, 20, 100, 1000]\n",
        "\n",
        "for appliance, power in zip(all_appliances, all_appliance_power):\n",
        "    appliance.quantity = 1\n",
        "    if appliance == bulb:\n",
        "        appliance.quantity = 20\n",
        "    appliance.power_demand = power * appliance.quantity\n",
        "\n",
        "total_power_W = []\n",
        "for appliance in all_appliances:\n",
        "    total_power_W.append(appliance.power_demand)\n",
        "\n",
        "total_power_W = sum(total_power_W)"
      ],
      "metadata": {
        "id": "wW6e1EPsd5X-"
      },
      "execution_count": null,
      "outputs": []
    },
    {
      "cell_type": "markdown",
      "source": [
        "### If we assume that we will be using the appliances continuously during the outage, we can calculate the amount of hours we can power our essential appliances for."
      ],
      "metadata": {
        "id": "NWhdJUC2hU78"
      }
    },
    {
      "cell_type": "code",
      "source": [
        "hours_emerg_power = round(batterysize_kWh / (total_power_W / 1000), 1)\n",
        "print ('The total power the essential appliances use is', total_power_W, 'Watts and the number of hours these appliances can be powered for is', hours_emerg_power)"
      ],
      "metadata": {
        "colab": {
          "base_uri": "https://localhost:8080/"
        },
        "id": "f24hbeJkhVvA",
        "outputId": "5dbf9ad2-0339-4079-d588-6441e3514005"
      },
      "execution_count": null,
      "outputs": [
        {
          "output_type": "stream",
          "name": "stdout",
          "text": [
            "The total power the essential appliances use is 1125 Watts and the number of hours these appliances can be powered for is 12.0\n"
          ]
        }
      ]
    },
    {
      "cell_type": "markdown",
      "source": [
        "### The last piece of the puzzle is how much of a charge we can actually achieve on our battery, depending on the information we randomly generated earlier. The last information we need is some information about our solar panels."
      ],
      "metadata": {
        "id": "Thpttl3ph-9j"
      }
    },
    {
      "cell_type": "code",
      "source": [
        "sunny_time = round((avg_sun * date),1)\n",
        "\n",
        "charge = round(((batterysize_kWh*1000)/sunny_time),1)\n",
        "if charge >= 13500:\n",
        "  print('This amount of days at this amount of sunny hours, the battery would be fully charged at 13,500 Watts. We require a total of',total_power_W, 'Watts to run our essential appliances for', hours_emerg_power,'hours.')\n",
        "else:\n",
        "  print('The amount of charge gained in', sunny_time,'hours is',charge,'Watts. We require a total of',total_power_W, 'Watts to run our essential appliances for', hours_emerg_power,'hours.')"
      ],
      "metadata": {
        "colab": {
          "base_uri": "https://localhost:8080/"
        },
        "id": "cDsUa51howVY",
        "outputId": "75a3c597-9274-44f2-d6ce-fc3af73f35a0"
      },
      "execution_count": null,
      "outputs": [
        {
          "output_type": "stream",
          "name": "stdout",
          "text": [
            "The amount of charge gained in 69.7 hours is 193.7 Watts. We require a total of 1125 Watts to run our essential appliances for 12.0 hours.\n"
          ]
        }
      ]
    }
  ]
}